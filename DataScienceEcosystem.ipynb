{
 "cells": [
  {
   "cell_type": "markdown",
   "id": "ca7b005a-4f79-4ca1-a5d3-62df9464e816",
   "metadata": {},
   "source": [
    "<h1>Data Science Tools and Ecosystem</h1>"
   ]
  },
  {
   "cell_type": "markdown",
   "id": "2da565dd-fa64-4ffe-9191-3610a3041c1a",
   "metadata": {},
   "source": [
    "In this notebook, Data Science Tools and Ecosystem are summarized."
   ]
  },
  {
   "cell_type": "markdown",
   "id": "9d3a2c54-b552-4ab9-aff6-ca25208bb8ee",
   "metadata": {},
   "source": [
    "Some of the popular languages that Data Scientists use are:\n",
    "<ol>\n",
    "    <li>Python</li>\n",
    "    <li>R</li>\n",
    "    <li>SQL</li>\n",
    "    <li>Javascript</li>\n",
    "</ol>"
   ]
  },
  {
   "cell_type": "markdown",
   "id": "316bf39e-cace-4f50-af90-7eab4f22c5de",
   "metadata": {},
   "source": [
    "Some of the commonly used libraries used by Data Scientists include:\n",
    "<ol>\n",
    "    <li>pandas</li>\n",
    "    <li>Numpy</li>\n",
    "    <li>Matplotlib</li>\n",
    "</ol>"
   ]
  },
  {
   "cell_type": "markdown",
   "id": "82342c2c-dc24-475e-9fb3-89b1ab3149e4",
   "metadata": {},
   "source": [
    "<table>\n",
    "    <tr><th>Data Science Tools</th></tr>\n",
    "    <tr>\n",
    "        <td>Jupyter Notebook</td>\n",
    "    </tr>\n",
    "    <tr>\n",
    "        <td>RStudio</td>\n",
    "    </tr>\n",
    "    <tr>\n",
    "        <td>Spyder</td>\n",
    "    </tr>\n",
    "</table>"
   ]
  },
  {
   "cell_type": "markdown",
   "id": "b62b775c-ca0e-48b1-b991-aee0de912849",
   "metadata": {},
   "source": [
    "<h3>Below are a few examples of evaluating arithmetic expressions in Python</h3>\n",
    "<p>a = b + c</p>\n",
    "<p>x = a / b</p>\n",
    "<p>y = a * x</p>\n",
    "<p>z = c - d</p>"
   ]
  },
  {
   "cell_type": "code",
   "execution_count": 2,
   "id": "ff1a644a-3f90-486f-b0a8-41d3f99da501",
   "metadata": {
    "tags": []
   },
   "outputs": [
    {
     "name": "stdout",
     "output_type": "stream",
     "text": [
      "17\n"
     ]
    }
   ],
   "source": [
    "a = (3*4)+5\n",
    "print(a)"
   ]
  },
  {
   "cell_type": "code",
   "execution_count": 5,
   "id": "aeb5183a-817f-4e85-a41a-ea10d7018e0d",
   "metadata": {
    "tags": []
   },
   "outputs": [
    {
     "name": "stdout",
     "output_type": "stream",
     "text": [
      "3.3333333333333335\n"
     ]
    }
   ],
   "source": [
    "minutes = 200\n",
    "#this will convert minutes to hours by dividing it with 60\n",
    "hours = 200 / 60\n",
    "print(hours)"
   ]
  },
  {
   "cell_type": "markdown",
   "id": "4802d091-a174-4038-901d-e715d852dc1a",
   "metadata": {},
   "source": [
    "<strong>Objectives:</strong>\n",
    "<ul>\n",
    "    <li>List popular languages for Data Science</li>\n",
    "    <li>Few examples of evaluating arithmetic expressions in Python</li>\n",
    "    <li>Commonly used libraries used by Data Scientists</li>\n",
    "    <li>List some Datascience tools in a table</li>\n",
    "    <li>Convert minutes to hours</li>\n",
    "</ul>"
   ]
  },
  {
   "cell_type": "markdown",
   "id": "e7af82d4-0c7b-4fec-b6b9-6d2529b9e6fa",
   "metadata": {},
   "source": [
    "<h2>Author</h2>\n",
    "<p>Binay Kumar Sahu</p>"
   ]
  },
  {
   "cell_type": "code",
   "execution_count": null,
   "id": "dfe245d0-7a45-4345-994e-a3db21722692",
   "metadata": {},
   "outputs": [],
   "source": []
  }
 ],
 "metadata": {
  "kernelspec": {
   "display_name": "Python",
   "language": "python",
   "name": "conda-env-python-py"
  },
  "language_info": {
   "codemirror_mode": {
    "name": "ipython",
    "version": 3
   },
   "file_extension": ".py",
   "mimetype": "text/x-python",
   "name": "python",
   "nbconvert_exporter": "python",
   "pygments_lexer": "ipython3",
   "version": "3.7.12"
  }
 },
 "nbformat": 4,
 "nbformat_minor": 5
}
